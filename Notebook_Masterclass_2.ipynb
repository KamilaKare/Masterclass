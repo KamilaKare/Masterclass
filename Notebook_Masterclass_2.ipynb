{
  "nbformat": 4,
  "nbformat_minor": 0,
  "metadata": {
    "colab": {
      "provenance": []
    },
    "kernelspec": {
      "name": "python3",
      "display_name": "Python 3"
    },
    "language_info": {
      "name": "python"
    }
  },
  "cells": [
    {
      "cell_type": "markdown",
      "source": [
        "#  Introductory example of agents with the React method\n",
        "\n",
        "To run this notebook, you'll need two keys:\n",
        "\n",
        "- an openai key (you can generate your own on openai.com), you can do without openai and use an open source llm.\n",
        "\n",
        "- a tavily api key (generate one on https://app.tavily.com/)\n",
        "\n"
      ],
      "metadata": {
        "id": "fhIIllU5q8AI"
      }
    },
    {
      "cell_type": "code",
      "execution_count": 1,
      "metadata": {
        "colab": {
          "base_uri": "https://localhost:8080/"
        },
        "id": "qLDtvjLF0OY5",
        "outputId": "12461502-2485-42a0-92b6-ce5d1a679515"
      },
      "outputs": [
        {
          "name": "stdout",
          "output_type": "stream",
          "text": [
            "Enter the secret value: ··········\n"
          ]
        }
      ],
      "source": []
    },
    {
      "cell_type": "code",
      "source": [
        "!pip install -q langchain openai langchain_community langchain_openai langchainhub"
      ],
      "metadata": {
        "id": "UwvV-AnX0xNF",
        "colab": {
          "base_uri": "https://localhost:8080/"
        },
        "outputId": "98a2bfdd-a291-4451-a373-e759714cb1f9"
      },
      "execution_count": 2,
      "outputs": [
        {
          "output_type": "stream",
          "name": "stdout",
          "text": [
            "\u001b[2K     \u001b[90m━━━━━━━━━━━━━━━━━━━━━━━━━━━━━━━━━━━━━━━━\u001b[0m \u001b[32m50.4/50.4 kB\u001b[0m \u001b[31m2.7 MB/s\u001b[0m eta \u001b[36m0:00:00\u001b[0m\n",
            "\u001b[2K   \u001b[90m━━━━━━━━━━━━━━━━━━━━━━━━━━━━━━━━━━━━━━━━\u001b[0m \u001b[32m990.3/990.3 kB\u001b[0m \u001b[31m16.9 MB/s\u001b[0m eta \u001b[36m0:00:00\u001b[0m\n",
            "\u001b[2K   \u001b[90m━━━━━━━━━━━━━━━━━━━━━━━━━━━━━━━━━━━━━━━━\u001b[0m \u001b[32m337.0/337.0 kB\u001b[0m \u001b[31m21.8 MB/s\u001b[0m eta \u001b[36m0:00:00\u001b[0m\n",
            "\u001b[2K   \u001b[90m━━━━━━━━━━━━━━━━━━━━━━━━━━━━━━━━━━━━━━━━\u001b[0m \u001b[32m2.3/2.3 MB\u001b[0m \u001b[31m49.7 MB/s\u001b[0m eta \u001b[36m0:00:00\u001b[0m\n",
            "\u001b[2K   \u001b[90m━━━━━━━━━━━━━━━━━━━━━━━━━━━━━━━━━━━━━━━━\u001b[0m \u001b[32m47.1/47.1 kB\u001b[0m \u001b[31m3.7 MB/s\u001b[0m eta \u001b[36m0:00:00\u001b[0m\n",
            "\u001b[2K   \u001b[90m━━━━━━━━━━━━━━━━━━━━━━━━━━━━━━━━━━━━━━━━\u001b[0m \u001b[32m75.6/75.6 kB\u001b[0m \u001b[31m6.3 MB/s\u001b[0m eta \u001b[36m0:00:00\u001b[0m\n",
            "\u001b[2K   \u001b[90m━━━━━━━━━━━━━━━━━━━━━━━━━━━━━━━━━━━━━━━━\u001b[0m \u001b[32m77.9/77.9 kB\u001b[0m \u001b[31m6.1 MB/s\u001b[0m eta \u001b[36m0:00:00\u001b[0m\n",
            "\u001b[2K   \u001b[90m━━━━━━━━━━━━━━━━━━━━━━━━━━━━━━━━━━━━━━━━\u001b[0m \u001b[32m377.3/377.3 kB\u001b[0m \u001b[31m20.0 MB/s\u001b[0m eta \u001b[36m0:00:00\u001b[0m\n",
            "\u001b[2K   \u001b[90m━━━━━━━━━━━━━━━━━━━━━━━━━━━━━━━━━━━━━━━━\u001b[0m \u001b[32m139.8/139.8 kB\u001b[0m \u001b[31m9.4 MB/s\u001b[0m eta \u001b[36m0:00:00\u001b[0m\n",
            "\u001b[2K   \u001b[90m━━━━━━━━━━━━━━━━━━━━━━━━━━━━━━━━━━━━━━━━\u001b[0m \u001b[32m1.1/1.1 MB\u001b[0m \u001b[31m36.6 MB/s\u001b[0m eta \u001b[36m0:00:00\u001b[0m\n",
            "\u001b[2K   \u001b[90m━━━━━━━━━━━━━━━━━━━━━━━━━━━━━━━━━━━━━━━━\u001b[0m \u001b[32m49.2/49.2 kB\u001b[0m \u001b[31m3.4 MB/s\u001b[0m eta \u001b[36m0:00:00\u001b[0m\n",
            "\u001b[2K   \u001b[90m━━━━━━━━━━━━━━━━━━━━━━━━━━━━━━━━━━━━━━━━\u001b[0m \u001b[32m141.1/141.1 kB\u001b[0m \u001b[31m9.8 MB/s\u001b[0m eta \u001b[36m0:00:00\u001b[0m\n",
            "\u001b[2K   \u001b[90m━━━━━━━━━━━━━━━━━━━━━━━━━━━━━━━━━━━━━━━━\u001b[0m \u001b[32m58.3/58.3 kB\u001b[0m \u001b[31m4.6 MB/s\u001b[0m eta \u001b[36m0:00:00\u001b[0m\n",
            "\u001b[?25h"
          ]
        }
      ]
    },
    {
      "cell_type": "code",
      "source": [
        "from langchain import hub\n",
        "from langchain.agents import AgentExecutor, create_react_agent\n",
        "from langchain_community.tools.tavily_search import TavilySearchResults\n",
        "from langchain_openai import OpenAI\n",
        "from langchain_community.tools.tavily_search import TavilySearchResults\n",
        "from langchain.utilities.tavily_search import TavilySearchAPIWrapper\n",
        "from getpass import getpass\n",
        "import warnings\n",
        "warnings.filterwarnings('ignore')"
      ],
      "metadata": {
        "id": "p-FgRDI60s5-"
      },
      "execution_count": 30,
      "outputs": []
    },
    {
      "cell_type": "code",
      "source": [
        "OPENAI_API_KEY = getpass('Enter the secret openai key: ')"
      ],
      "metadata": {
        "colab": {
          "base_uri": "https://localhost:8080/"
        },
        "id": "S5yO5ne6sIU6",
        "outputId": "74334c48-78bd-4457-f37a-64c56959905d"
      },
      "execution_count": 23,
      "outputs": [
        {
          "name": "stdout",
          "output_type": "stream",
          "text": [
            "Enter the secret openai key: ··········\n"
          ]
        }
      ]
    },
    {
      "cell_type": "code",
      "source": [
        "TAVILY_API_KEY = getpass('Enter the secret tavily key: ')"
      ],
      "metadata": {
        "id": "ZtnlClph1T9L",
        "colab": {
          "base_uri": "https://localhost:8080/"
        },
        "outputId": "cf9fd399-a2a0-48f3-e2c1-de474a96ede3"
      },
      "execution_count": 4,
      "outputs": [
        {
          "name": "stdout",
          "output_type": "stream",
          "text": [
            "Enter the secret tavily key: ··········\n"
          ]
        }
      ]
    },
    {
      "cell_type": "code",
      "source": [
        "# Get the prompt to use - you can modify this!\n",
        "prompt = hub.pull(\"hwchase17/react\")\n",
        "prompt"
      ],
      "metadata": {
        "colab": {
          "base_uri": "https://localhost:8080/"
        },
        "id": "J0VsrqANsW7C",
        "outputId": "9e1a9666-2c7c-4444-9717-9495182301f2"
      },
      "execution_count": 31,
      "outputs": [
        {
          "output_type": "execute_result",
          "data": {
            "text/plain": [
              "PromptTemplate(input_variables=['agent_scratchpad', 'input', 'tool_names', 'tools'], metadata={'lc_hub_owner': 'hwchase17', 'lc_hub_repo': 'react', 'lc_hub_commit_hash': 'd15fe3c426f1c4b3f37c9198853e4a86e20c425ca7f4752ec0c9b0e97ca7ea4d'}, template='Answer the following questions as best you can. You have access to the following tools:\\n\\n{tools}\\n\\nUse the following format:\\n\\nQuestion: the input question you must answer\\nThought: you should always think about what to do\\nAction: the action to take, should be one of [{tool_names}]\\nAction Input: the input to the action\\nObservation: the result of the action\\n... (this Thought/Action/Action Input/Observation can repeat N times)\\nThought: I now know the final answer\\nFinal Answer: the final answer to the original input question\\n\\nBegin!\\n\\nQuestion: {input}\\nThought:{agent_scratchpad}')"
            ]
          },
          "metadata": {},
          "execution_count": 31
        }
      ]
    },
    {
      "cell_type": "code",
      "source": [
        "tavilySearchAPIWrapper = TavilySearchAPIWrapper(tavily_api_key=TAVILY_API_KEY)\n",
        "tools = [TavilySearchResults(api_wrapper=tavilySearchAPIWrapper, max_results=3)]"
      ],
      "metadata": {
        "id": "TgZ8Y4Uwpm5R"
      },
      "execution_count": 32,
      "outputs": []
    },
    {
      "cell_type": "code",
      "source": [
        "# Choose the LLM to use\n",
        "llm = ChatOpenAI(model=\"gpt-4o-mini\",openai_api_key=OPENAI_API_KEY)\n",
        "\n",
        "# Construct the ReAct agent\n",
        "agent = create_react_agent(llm, tools, prompt)"
      ],
      "metadata": {
        "id": "ttc18FaP44cS"
      },
      "execution_count": 35,
      "outputs": []
    },
    {
      "cell_type": "code",
      "source": [
        "llm(\"who is KAMILA KARE?\").content"
      ],
      "metadata": {
        "colab": {
          "base_uri": "https://localhost:8080/",
          "height": 70
        },
        "id": "PIS75ZntTrJp",
        "outputId": "71b5f237-32ca-422e-e466-8b9089dd6485"
      },
      "execution_count": 37,
      "outputs": [
        {
          "output_type": "execute_result",
          "data": {
            "text/plain": [
              "\"As of my last update in October 2023, Kamila Kare does not appear to be a widely recognized public figure, celebrity, or topic in mainstream media. It's possible that she could be a private individual, a rising influencer, or a figure in a specific niche that hasn't gained broad recognition. If you have more context or details about her, I could help you better!\""
            ],
            "application/vnd.google.colaboratory.intrinsic+json": {
              "type": "string"
            }
          },
          "metadata": {},
          "execution_count": 37
        }
      ]
    },
    {
      "cell_type": "code",
      "source": [
        "# Create an agent executor by passing in the agent and tools\n",
        "agent_executor = AgentExecutor(agent=agent, tools=tools, verbose=True)"
      ],
      "metadata": {
        "id": "bU7Rxip_7MlU"
      },
      "execution_count": 38,
      "outputs": []
    },
    {
      "cell_type": "code",
      "source": [
        "agent_executor.invoke({\"input\": \"who is KAMILA KARE?\"})"
      ],
      "metadata": {
        "colab": {
          "base_uri": "https://localhost:8080/"
        },
        "id": "OoJ-aLvy7POB",
        "outputId": "fea43f4f-8763-4714-dbf2-19455b893040"
      },
      "execution_count": 40,
      "outputs": [
        {
          "output_type": "stream",
          "name": "stdout",
          "text": [
            "\n",
            "\n",
            "\u001b[1m> Entering new AgentExecutor chain...\u001b[0m\n",
            "\u001b[32;1m\u001b[1;3mI need to gather information about Kamila Kare to provide a comprehensive answer. \n",
            "Action: tavily_search_results_json\n",
            "Action Input: \"Kamila Kare\"\u001b[0m\u001b[36;1m\u001b[1;3m[{'url': 'https://www.linkedin.com/pulse/understanding-rankrag-leap-forward-context-ranking-kare-kamila-phd-wapqe', 'content': 'Kamila Kare, PhD AI Applied Scientist Published Jul 9, 2024 + Follow In the ever-evolving landscape of natural language processing, the integration of retrieval-augmented generation (RAG) with ...'}, {'url': 'https://m.youtube.com/watch?v=UoGmktcAes0', 'content': 'Kamila Kare (SAMM, Paris 1, Panthéon-Sorbonne) Data Driven Model Selection for Same-Realization Predictions in Autoregressive Processes.http://doukhan.u-cerg...'}, {'url': 'https://kamilakare.github.io/', 'content': 'Kamila Kare. Preprint DATA DRIVEN MODEL SELECTION FOR SAME-REALIZATION PREDICTIONS IN AUTOREGRESSIVE PROCESSES. Kamila Kare. Preprint Teaching. Polytec Sorbonne University. TP Introduction à la Statistique avec R (M1 MTX) TD Structures Mathématiques (L3 ST) TP Informatique, Python (L3 MTX) Contact. Name.'}]\u001b[0m\u001b[32;1m\u001b[1;3mI have found several references to Kamila Kare, indicating she is a professional in the field of data science and statistics, likely with a focus on natural language processing and model selection. I will need to consolidate this information to provide a clear answer about her background and contributions.\n",
            "\n",
            "Action: tavily_search_results_json\n",
            "Action Input: \"Kamila Kare profile\"\u001b[0m\u001b[36;1m\u001b[1;3m[{'url': 'https://fr.linkedin.com/in/kamila-kare-phd-572a87112', 'content': \"Consultez le profil de Kamila Kare, PhD sur LinkedIn, une communauté professionnelle d'un milliard de membres. AI Applied Scientist · I am a Data Scientist and Project Leader at MENAPS. My responsibilities include developing question answering systems that use large language models (LLM) and knowledge graphs to generate natural language ...\"}, {'url': 'https://kamilakare.github.io/', 'content': 'Kamila Kare Data Scientist/ AI Researcher Expleo France. Biography. Welcome to my website! I am a Data Scientist and R&D Project Leader at Expleo Group, specializing in cutting-edge solutions for anomaly detection and predictive maintenance.'}, {'url': 'https://www.youtube.com/watch?v=UoGmktcAes0', 'content': 'Kamila Kare (SAMM, Paris 1, Panthéon-Sorbonne) Data Driven Model Selection for Same-Realization Predictions in Autoregressive Processes.http://doukhan.u-cerg...'}]\u001b[0m\u001b[32;1m\u001b[1;3mKamila Kare is identified as a professional in the fields of data science and artificial intelligence. She holds a PhD and works as a Data Scientist and R&D Project Leader at Expleo Group, where she specializes in developing advanced solutions for applications such as anomaly detection and predictive maintenance. Additionally, she is involved in creating question-answering systems that utilize large language models and knowledge graphs. Her academic contributions include research on model selection in autoregressive processes, reflecting her expertise in statistical methods and natural language processing.\n",
            "\n",
            "Final Answer: Kamila Kare is a Data Scientist and R&D Project Leader at Expleo Group, specializing in artificial intelligence, anomaly detection, and predictive maintenance. She holds a PhD and has conducted research on model selection in autoregressive processes.\u001b[0m\n",
            "\n",
            "\u001b[1m> Finished chain.\u001b[0m\n"
          ]
        },
        {
          "output_type": "execute_result",
          "data": {
            "text/plain": [
              "{'input': 'who is KAMILA KARE?',\n",
              " 'output': 'Kamila Kare is a Data Scientist and R&D Project Leader at Expleo Group, specializing in artificial intelligence, anomaly detection, and predictive maintenance. She holds a PhD and has conducted research on model selection in autoregressive processes.'}"
            ]
          },
          "metadata": {},
          "execution_count": 40
        }
      ]
    },
    {
      "cell_type": "code",
      "source": [],
      "metadata": {
        "id": "EZ779z39wHS2"
      },
      "execution_count": null,
      "outputs": []
    }
  ]
}